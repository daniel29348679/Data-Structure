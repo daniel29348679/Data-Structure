{
 "cells": [
  {
   "cell_type": "code",
   "execution_count": null,
   "metadata": {},
   "outputs": [],
   "source": [
    "import time"
   ]
  },
  {
   "cell_type": "code",
   "execution_count": null,
   "metadata": {},
   "outputs": [],
   "source": [
    "level = 0\n",
    "arrivecount = 0\n",
    "allowedvec = []\n"
   ]
  },
  {
   "cell_type": "code",
   "execution_count": null,
   "metadata": {},
   "outputs": [],
   "source": [
    "def findnext(nowvec):\n",
    "    global level\n",
    "    global arrivecount\n",
    "    global allowedvec\n",
    "    #print(level)\n",
    "    #print(arrivecount)\n",
    "    #print(allowedvec)\n",
    "    #print(nowvec)\n",
    "    #return\n",
    "    if len(nowvec) == level: # if nowvec already had enough number(already went through enough recursive)\n",
    "        arrivecount += 1\n",
    "        print( \"[\" + str(arrivecount) + \"] \" + str(nowvec) )    #print the order of this recursive and this number array\n",
    "        return; #quit this recursive\n",
    "    \n",
    "    for i in allowedvec:\n",
    "        if i not in nowvec:\n",
    "            nowvec.append(i) #pushback the new number\n",
    "            findnext(nowvec) #recursive\n",
    "            nowvec.pop() #pop the number after used\n",
    "\n",
    "\n"
   ]
  },
  {
   "cell_type": "code",
   "execution_count": null,
   "metadata": {},
   "outputs": [],
   "source": [
    "# MAIN!!!!!!!!\n",
    "\n",
    "k = -1\n",
    "while k != 0:\n",
    "    print( \"\\n\" )\n",
    "    print( \"** Permutation Generator **\" )  #print menu\n",
    "    print( \"* 0. Quit                 *\" )\n",
    "    print( \"* 1. N numbers from 1..N  *\" )\n",
    "    print( \"* 2. M numbers from input *\" )\n",
    "    print( \"* 3. M numbers from 1..9  *\" )\n",
    "    print( \"***************************\" )\n",
    "    print( \"Input a choice(0, 1, 2, 3): \")\n",
    "    k=int(input())\n",
    "\n",
    "    if k < 0 or k > 3:\n",
    "        print(\"\\nCommand does not exist!\")\n",
    "        continue\n",
    "\n",
    "    if k == 1:\n",
    "        print( \"\\nInput a number: \")\n",
    "        level = int(input())                #N numbers means N recursive level\n",
    "        while level < 1 or level > 9 : # make sure N is in [1,9]\n",
    "            print( \"\\n### It is NOT in [1,9] ###\\n\\nInput a number: \")\n",
    "            level = int(input())\n",
    "\n",
    "        arrivecount = 0                 #reset arrivecount\n",
    "        allowedvec.clear()              #reset allowedvec\n",
    "\n",
    "        for i in range(level): #put 1,2,3,,,,,N into allowedvec\n",
    "            allowedvec.append(i+1)\n",
    "\n",
    "        findnext([])                                              #start recursive\n",
    "\n",
    "        print( \"Mission 1: \" + str(arrivecount) + \" permutations\")  #print total permutations\n",
    "        print( \"L = \" + str(level) )  #print level\n",
    "\n",
    "\n",
    "    if k == 2:\n",
    "        print( \"\\nInput a number: \")\n",
    "        level = int(input())                #N numbers means N recursive level\n",
    "        while level < 2 or level > 9 : # make sure N is in [2,9]\n",
    "            print( \"\\n### It is NOT in [2,9] ###\\n\\nInput a number: \")\n",
    "            level = int(input())\n",
    "\n",
    "        arrivecount = 0                 #reset arrivecount\n",
    "        allowedvec.clear()              #reset allowedvec\n",
    "\n",
    "        for i in range(level): #scan and put numbers into allowedvec\n",
    "            num = int(input(\"\\nInput a number: \"))\n",
    "            while num in allowedvec: #new number must be new\n",
    "                num = int(input(\"\\n### Duplicate! Still need \" + str( level - i ) + \" numbers! ###\\nInput a number: \"))\n",
    "            allowedvec.append(num)\n",
    "        \n",
    "        t = time.time() #record start time\n",
    "        findnext([])                                              #start recursive\n",
    "\n",
    "        print( \"Mission 1: \" + str(arrivecount) + \" permutations\")  #print total permutations\n",
    "        print( \"T = \" + str((time.time()-t)*1000)  + \" ms\" )  #print time\n",
    "\n",
    "\n",
    "    if k == 3:\n",
    "        print( \"\\nInput a number: \")\n",
    "        level = int(input())                #N numbers means N recursive level\n",
    "        while level < 1 or level > 9 : # make sure N is in [1,9]\n",
    "            print( \"\\n### It is NOT in [1,9] ###\\n\\nInput a number: \")\n",
    "            level = int(input())\n",
    "\n",
    "        arrivecount = 0                 #reset arrivecount\n",
    "        allowedvec.clear()              #reset allowedvec\n",
    "\n",
    "        for i in range(level): #scan and put numbers into allowedvec\n",
    "            allowedvec.append(i+1)\n",
    "        \n",
    "        t = time.time() #record start time\n",
    "        findnext([])                                              #start recursive\n",
    "\n",
    "        print( \"Mission 1: \" + str(arrivecount) + \" permutations\")  #print total permutations\n",
    "        print( \"T = \" + str((time.time()-t)*1000) + \" ms\" )  #print time\n",
    "\n"
   ]
  }
 ],
 "metadata": {
  "kernelspec": {
   "display_name": "Python 3.10.5 64-bit",
   "language": "python",
   "name": "python3"
  },
  "language_info": {
   "codemirror_mode": {
    "name": "ipython",
    "version": 3
   },
   "file_extension": ".py",
   "mimetype": "text/x-python",
   "name": "python",
   "nbconvert_exporter": "python",
   "pygments_lexer": "ipython3",
   "version": "3.10.5"
  },
  "orig_nbformat": 4,
  "vscode": {
   "interpreter": {
    "hash": "0f2f6c680cf484319d387fabac80ca4ff4fc33965036e02100b3fe02600f1423"
   }
  }
 },
 "nbformat": 4,
 "nbformat_minor": 2
}
